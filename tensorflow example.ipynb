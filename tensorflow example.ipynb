{
 "cells": [
  {
   "cell_type": "code",
   "execution_count": 1,
   "metadata": {},
   "outputs": [
    {
     "name": "stderr",
     "output_type": "stream",
     "text": [
      "C:\\Users\\Alvertos\\Anaconda3\\envs\\keras\\lib\\site-packages\\PIL\\Image.py:116: RuntimeWarning: The _imaging extension was built for another version of Pillow or PIL:\n",
      "Core version: 5.3.0\n",
      "Pillow version: 5.4.1\n",
      "  warnings.warn(str(v), RuntimeWarning)\n"
     ]
    }
   ],
   "source": [
    "import numpy as np\n",
    "import matplotlib.pyplot as plt\n",
    "import pandas as pd\n",
    "from collections import deque"
   ]
  },
  {
   "cell_type": "code",
   "execution_count": 2,
   "metadata": {},
   "outputs": [
    {
     "name": "stdout",
     "output_type": "stream",
     "text": [
      "        Open       High        Low      Close  Adj Close     Volume\n",
      "0  75.701431  77.500000  75.697144  76.532860  65.135979   94623200\n",
      "1  76.888573  78.104286  76.808571  78.055717  66.432060   83140400\n",
      "2  79.074287  80.028572  78.808571  79.622856  67.765808   97909700\n",
      "3  79.271431  79.550003  78.811432  79.178574  67.387703   57319500\n",
      "4  78.782860  78.867142  77.128571  77.238571  65.736603  106684900\n",
      "5  77.284286  78.581429  77.202858  78.438568  66.757919   82131700\n",
      "6  78.701431  79.612854  78.258568  78.787140  67.054565   94996300\n",
      "7  78.562859  79.500000  77.830002  79.454285  67.622375  100809800\n",
      "8  79.142860  79.374283  77.821426  78.010002  66.393143  107338700\n",
      "9  78.581429  79.257141  77.964287  78.642860  66.931786  138719700\n"
     ]
    }
   ],
   "source": [
    "#Importing dataset\n",
    "main_dataset = pd.read_csv(\"AAPL.csv\")\n",
    "main_dataset_1 = main_dataset.drop(\"Date\",1)\n",
    "print(main_dataset_1.head(10))"
   ]
  },
  {
   "cell_type": "code",
   "execution_count": 3,
   "metadata": {},
   "outputs": [
    {
     "name": "stdout",
     "output_type": "stream",
     "text": [
      "['Open', 'High', 'Low', 'Close', 'Adj Close', 'Volume']\n"
     ]
    }
   ],
   "source": [
    "columns_names=list(main_dataset_1.columns.values)\n",
    "print(columns_names)"
   ]
  },
  {
   "cell_type": "code",
   "execution_count": 4,
   "metadata": {},
   "outputs": [],
   "source": [
    "#split data to train and testing we will use the last 10% of our dataset as testing\n",
    "main_dataset_1_values = main_dataset_1.values\n",
    "train_size = int(len(main_dataset_1_values) * 0.90) \n",
    "test_size = len(main_dataset_1_values) - train_size\n",
    "training_dataset, validation_dataset = main_dataset_1_values[0:train_size, :], main_dataset_1_values[train_size:len(main_dataset_1_values), :]"
   ]
  },
  {
   "cell_type": "code",
   "execution_count": 5,
   "metadata": {},
   "outputs": [
    {
     "name": "stderr",
     "output_type": "stream",
     "text": [
      "C:\\Users\\Alvertos\\Anaconda3\\envs\\keras\\lib\\site-packages\\PIL\\Image.py:116: RuntimeWarning: The _imaging extension was built for another version of Pillow or PIL:\n",
      "Core version: 5.3.0\n",
      "Pillow version: 5.4.1\n",
      "  warnings.warn(str(v), RuntimeWarning)\n"
     ]
    }
   ],
   "source": [
    "#Normalize dataset\n",
    "from sklearn import preprocessing\n",
    "taget_colum=training_dataset[:,0]\n",
    "min_max_scaler = preprocessing.MinMaxScaler(feature_range = (0,1))\n",
    "training_dataset_scaled = min_max_scaler.fit_transform(training_dataset)\n",
    "min_Max_scaler_target=preprocessing.MinMaxScaler(feature_range = (0,1))\n",
    "taget_colum=taget_colum.reshape(-1,1)\n",
    "training_taret = min_Max_scaler_target.fit_transform(taget_colum)"
   ]
  },
  {
   "cell_type": "code",
   "execution_count": 6,
   "metadata": {},
   "outputs": [],
   "source": [
    "sequence_lenght = 30 # we are looking a month back\n",
    "future_period_target =7  # we want to predict 7 days in to the future\n",
    "def sequential_data(dataset):\n",
    "    data_X_values, data_Y_values = [], []\n",
    "    for i in range(len(dataset) - sequence_lenght):\n",
    "        a = dataset[i:(i + sequence_lenght),:]\n",
    "        data_X_values.append(a)\n",
    "        data_Y_values.append(dataset[i + future_period_target, 0])\n",
    "    return np.array(data_X_values), np.array(data_Y_values)"
   ]
  },
  {
   "cell_type": "code",
   "execution_count": 7,
   "metadata": {},
   "outputs": [],
   "source": [
    "sequence_lenght = 30 # we are looking a month back\n",
    "future_period_target =7 # we want to predict 7 days in to the future\n",
    "def sequential_data_2(dataset):\n",
    "    data_X_values, data_Y_values = [], []\n",
    "    for i in range(sequence_lenght,len(dataset) - future_period_target):\n",
    "        a = dataset[i-sequence_lenght:i,:]\n",
    "        data_X_values.append(a)\n",
    "        data_Y_values.append(dataset[i + future_period_target, 0])\n",
    "    return np.array(data_X_values), np.array(data_Y_values)"
   ]
  },
  {
   "cell_type": "code",
   "execution_count": 8,
   "metadata": {},
   "outputs": [],
   "source": [
    "train_X, train_Y = sequential_data(training_dataset_scaled)  #using the second function"
   ]
  },
  {
   "cell_type": "code",
   "execution_count": 9,
   "metadata": {},
   "outputs": [
    {
     "data": {
      "text/plain": [
       "(1103, 30, 6)"
      ]
     },
     "execution_count": 9,
     "metadata": {},
     "output_type": "execute_result"
    }
   ],
   "source": [
    "train_X.shape"
   ]
  },
  {
   "cell_type": "code",
   "execution_count": 10,
   "metadata": {},
   "outputs": [],
   "source": [
    "def generate_next_batch(data_features,data_labels,batch_number=32):\n",
    "    index=np.arange(0,len(data_features))\n",
    "    np.random.shuffle(index)\n",
    "    index=index[:batch_number]\n",
    "    data_features_shuffle=[data_features[i] for i in index]\n",
    "    data_labels_shuffle=[data_labels[i] for i in index]\n",
    "    \n",
    "    return np.asarray(data_features_shuffle),np.asarray(data_labels_shuffle)"
   ]
  },
  {
   "cell_type": "code",
   "execution_count": 11,
   "metadata": {},
   "outputs": [
    {
     "name": "stderr",
     "output_type": "stream",
     "text": [
      "C:\\Users\\Alvertos\\Anaconda3\\envs\\keras\\lib\\site-packages\\PIL\\Image.py:116: RuntimeWarning: The _imaging extension was built for another version of Pillow or PIL:\n",
      "Core version: 5.3.0\n",
      "Pillow version: 5.4.1\n",
      "  warnings.warn(str(v), RuntimeWarning)\n",
      "C:\\Users\\Alvertos\\Anaconda3\\envs\\keras\\lib\\site-packages\\PIL\\Image.py:116: RuntimeWarning: The _imaging extension was built for another version of Pillow or PIL:\n",
      "Core version: 5.3.0\n",
      "Pillow version: 5.4.1\n",
      "  warnings.warn(str(v), RuntimeWarning)\n"
     ]
    }
   ],
   "source": [
    "import tensorflow as tf\n",
    "tf.reset_default_graph()"
   ]
  },
  {
   "cell_type": "code",
   "execution_count": 12,
   "metadata": {},
   "outputs": [],
   "source": [
    "num_of_inputs=6\n",
    "#sequence_lenght\n",
    "num_of_neurons=100\n",
    "num_of_outputs=1\n",
    "num_of_inputs_2=30\n",
    "learning_rate=0.01\n",
    "num_of_iterations=100\n",
    "batch_number=1000\n",
    "batches = len(train_X)//batch_number"
   ]
  },
  {
   "cell_type": "code",
   "execution_count": 13,
   "metadata": {},
   "outputs": [],
   "source": [
    "X=tf.placeholder(tf.float32,[None,sequence_lenght,num_of_inputs])\n",
    "Y=tf.placeholder(tf.float32,[None,1])"
   ]
  },
  {
   "cell_type": "code",
   "execution_count": 14,
   "metadata": {},
   "outputs": [
    {
     "name": "stdout",
     "output_type": "stream",
     "text": [
      "WARNING:tensorflow:From <ipython-input-14-1811610c1324>:1: BasicLSTMCell.__init__ (from tensorflow.python.ops.rnn_cell_impl) is deprecated and will be removed in a future version.\n",
      "Instructions for updating:\n",
      "This class is deprecated, please use tf.nn.rnn_cell.LSTMCell, which supports all the feature this cell currently has. Please replace the existing code with tf.nn.rnn_cell.LSTMCell(name='basic_lstm_cell').\n"
     ]
    }
   ],
   "source": [
    "cell=tf.contrib.rnn.OutputProjectionWrapper(tf.contrib.rnn.BasicLSTMCell(num_units=num_of_neurons,activation=tf.nn.relu),output_size=num_of_outputs)"
   ]
  },
  {
   "cell_type": "code",
   "execution_count": 15,
   "metadata": {},
   "outputs": [],
   "source": [
    "outputs, states = tf.nn.dynamic_rnn(cell,X,dtype=tf.float32)\n",
    "#outputs = tf.squeeze(tf.transpose (outputs, [0, 2, 1])[:,:,5])\n",
    "#outputs = tf.squeeze(tf.transpose (outputs, [0, 2, 1]))\n",
    "#outputs=outputs[:,:1]\n",
    "outputs=outputs[:, -1, :] #tp get a last output of a dinamic RNN"
   ]
  },
  {
   "cell_type": "code",
   "execution_count": 16,
   "metadata": {},
   "outputs": [],
   "source": [
    "loss=tf.reduce_mean(tf.square(outputs-Y))"
   ]
  },
  {
   "cell_type": "code",
   "execution_count": 17,
   "metadata": {},
   "outputs": [],
   "source": [
    "optimizer=tf.train.AdamOptimizer(learning_rate=learning_rate)\n",
    "train = optimizer.minimize(loss)"
   ]
  },
  {
   "cell_type": "code",
   "execution_count": 18,
   "metadata": {},
   "outputs": [],
   "source": [
    "init= tf.global_variables_initializer()"
   ]
  },
  {
   "cell_type": "code",
   "execution_count": 19,
   "metadata": {},
   "outputs": [],
   "source": [
    "saver=tf.train.Saver()"
   ]
  },
  {
   "cell_type": "code",
   "execution_count": 20,
   "metadata": {},
   "outputs": [],
   "source": [
    "gpu_usage_options=tf.GPUOptions(per_process_gpu_memory_fraction=0.9)"
   ]
  },
  {
   "cell_type": "code",
   "execution_count": 21,
   "metadata": {},
   "outputs": [],
   "source": [
    "\n",
    "\n",
    "config = tf.ConfigProto(\n",
    "        device_count = {'GPU': 0}\n",
    "    )"
   ]
  },
  {
   "cell_type": "code",
   "execution_count": 22,
   "metadata": {},
   "outputs": [
    {
     "name": "stdout",
     "output_type": "stream",
     "text": [
      "epoch : 0 \tmse 0.03007233\n",
      "epoch : 10 \tmse 0.0043990393\n",
      "epoch : 20 \tmse 0.0038154498\n",
      "epoch : 30 \tmse 0.0031834508\n",
      "epoch : 40 \tmse 0.003150161\n",
      "epoch : 50 \tmse 0.0029332268\n",
      "epoch : 60 \tmse 0.0027312282\n",
      "epoch : 70 \tmse 0.0026350264\n",
      "epoch : 80 \tmse 0.0024193923\n",
      "epoch : 90 \tmse 0.0021539938\n"
     ]
    }
   ],
   "source": [
    "with tf.Session(config=config) as sess:\n",
    "    sess.run(init)\n",
    "    \n",
    "    for epoch in range(num_of_iterations):\n",
    "        for batch in range(batches):\n",
    "            X_batch_np,Y_batch_np=generate_next_batch(train_X,train_Y,batch_number)\n",
    "            X_batch=np.reshape(X_batch_np, (X_batch_np.shape[0], sequence_lenght, 6))\n",
    "            Y_batch=Y_batch_np[:, None]\n",
    "            sess.run(train,feed_dict={X:X_batch,Y:Y_batch})\n",
    "        \n",
    "        if epoch%10==0:\n",
    "            mse= loss.eval(feed_dict={X:X_batch,Y:Y_batch})\n",
    "            print(\"epoch :\",epoch,\"\\tmse\",mse)\n",
    "    #save model\n",
    "    saver.save(sess,\"./tensorlfow_model\")"
   ]
  },
  {
   "cell_type": "code",
   "execution_count": 23,
   "metadata": {},
   "outputs": [
    {
     "name": "stdout",
     "output_type": "stream",
     "text": [
      "INFO:tensorflow:Restoring parameters from ./tensorlfow_model\n"
     ]
    }
   ],
   "source": [
    "#concatinating\n",
    "validation_dataset_scaled = min_max_scaler.transform(validation_dataset)\n",
    "training_part=training_dataset_scaled[-sequence_lenght:]\n",
    "new_validation_scaled=np.concatenate((training_part,validation_dataset_scaled),axis=0)#concatenate verticaly\n",
    "validation_X ,validation_y = sequential_data(new_validation_scaled)\n",
    "#Test\n",
    "with tf.Session(config=config) as sess:\n",
    "    saver.restore(sess,\"./tensorlfow_model\")\n",
    "    X_batch=validation_X\n",
    "    Y_pred=sess.run(outputs,feed_dict={X:X_batch})"
   ]
  },
  {
   "cell_type": "code",
   "execution_count": 24,
   "metadata": {},
   "outputs": [],
   "source": [
    "predicted_stock_price=Y_pred.reshape(-1,1)\n",
    "predicted_stock_price = min_Max_scaler_target.inverse_transform(predicted_stock_price)"
   ]
  },
  {
   "cell_type": "code",
   "execution_count": 25,
   "metadata": {},
   "outputs": [],
   "source": [
    "real_stock_price=validation_dataset[:,0]\n",
    "real_stock_price=real_stock_price.reshape(-1,1)\n",
    "real_stock_price_scaled = min_Max_scaler_target.inverse_transform(predicted_stock_price)"
   ]
  },
  {
   "cell_type": "code",
   "execution_count": 26,
   "metadata": {},
   "outputs": [
    {
     "data": {
      "image/png": "[encoded data removed]",
      "text/plain": [
       "<Figure size 432x288 with 1 Axes>"
      ]
     },
     "metadata": {
      "needs_background": "light"
     },
     "output_type": "display_data"
    }
   ],
   "source": [
    "plt.plot(real_stock_price , color= 'red',label=\"real apple stock price\")\n",
    "plt.plot(predicted_stock_price, color= \"blue\", label=\"predicted apple price\")\n",
    "plt.title(\"Apple stock price prediction\")\n",
    "plt.xlabel(\"Time\")\n",
    "plt.ylabel(\"apple stock price\")\n",
    "plt.legend()\n",
    "plt.show()"
   ]
  }
 ],
 "metadata": {
  "kernelspec": {
   "display_name": "keras",
   "language": "python",
   "name": "keras"
  },
  "language_info": {
   "codemirror_mode": {
    "name": "ipython",
    "version": 3
   },
   "file_extension": ".py",
   "mimetype": "text/x-python",
   "name": "python",
   "nbconvert_exporter": "python",
   "pygments_lexer": "ipython3",
   "version": "3.6.8"
  }
 },
 "nbformat": 4,
 "nbformat_minor": 2
}
